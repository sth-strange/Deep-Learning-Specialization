{
 "cells": [
  {
   "cell_type": "markdown",
   "metadata": {},
   "source": [
    "# Convolutional Neural Networks: Application\n",
    "\n",
    "Welcome to Course 4's second assignment! In this notebook, you will:\n",
    "\n",
    "- Create a mood classifer using the TF Keras Sequential API\n",
    "- Build a ConvNet to identify sign language digits using the TF Keras Functional API\n",
    "\n",
    "**After this assignment you will be able to:**\n",
    "\n",
    "- Build and train a ConvNet in TensorFlow for a __binary__ classification problem\n",
    "- Build and train a ConvNet in TensorFlow for a __multiclass__ classification problem\n",
    "- Explain different use cases for the Sequential and Functional APIs\n",
    "\n",
    "To complete this assignment, you should already be familiar with TensorFlow. If you are not, please refer back to the **TensorFlow Tutorial** of the third week of Course 2 (\"**Improving deep neural networks**\").\n",
    "\n",
    "## Important Note on Submission to the AutoGrader\n",
    "\n",
    "Before submitting your assignment to the AutoGrader, please make sure you are not doing the following:\n",
    "\n",
    "1. You have not added any _extra_ `print` statement(s) in the assignment.\n",
    "2. You have not added any _extra_ code cell(s) in the assignment.\n",
    "3. You have not changed any of the function parameters.\n",
    "4. You are not using any global variables inside your graded exercises. Unless specifically instructed to do so, please refrain from it and use the local variables instead.\n",
    "5. You are not changing the assignment code where it is not required, like creating _extra_ variables.\n",
    "\n",
    "If you do any of the following, you will get something like, `Grader Error: Grader feedback not found` (or similarly unexpected) error upon submitting your assignment. Before asking for help/debugging the errors in your assignment, check for these first. If this is the case, and you don't remember the changes you have made, you can get a fresh copy of the assignment by following these [instructions](https://www.coursera.org/learn/convolutional-neural-networks/supplement/DS4yP/h-ow-to-refresh-your-workspace)."
   ]
  },
  {
   "cell_type": "markdown",
   "metadata": {},
   "source": [
    "## Table of Contents\n",
    "\n",
    "- [1 - Packages](#1)\n",
    "    - [1.1 - Load the Data and Split the Data into Train/Test Sets](#1-1)\n",
    "- [2 - Layers in TF Keras](#2)\n",
    "- [3 - The Sequential API](#3)\n",
    "    - [3.1 - Create the Sequential Model](#3-1)\n",
    "        - [Exercise 1 - happyModel](#ex-1)\n",
    "    - [3.2 - Train and Evaluate the Model](#3-2)\n",
    "- [4 - The Functional API](#4)\n",
    "    - [4.1 - Load the SIGNS Dataset](#4-1)\n",
    "    - [4.2 - Split the Data into Train/Test Sets](#4-2)\n",
    "    - [4.3 - Forward Propagation](#4-3)\n",
    "        - [Exercise 2 - convolutional_model](#ex-2)\n",
    "    - [4.4 - Train the Model](#4-4)\n",
    "- [5 - History Object](#5)\n",
    "- [6 - Bibliography](#6)"
   ]
  },
  {
   "cell_type": "markdown",
   "metadata": {},
   "source": [
    "<a name='1'></a>\n",
    "## 1 - Packages\n",
    "\n",
    "As usual, begin by loading in the packages."
   ]
  },
  {
   "cell_type": "code",
   "execution_count": null,
   "metadata": {
    "deletable": false,
    "editable": false
   },
   "outputs": [],
   "source": [
    "### v1.1"
   ]
  },
  {
   "cell_type": "code",
   "execution_count": 1,
   "metadata": {},
   "outputs": [],
   "source": [
    "import math\n",
    "import numpy as np\n",
    "import h5py\n",
    "import matplotlib.pyplot as plt\n",
    "from matplotlib.pyplot import imread\n",
    "import scipy\n",
    "from PIL import Image\n",
    "import pandas as pd\n",
    "import tensorflow as tf\n",
    "import tensorflow.keras.layers as tfl\n",
    "from tensorflow.python.framework import ops\n",
    "from cnn_utils import *\n",
    "from test_utils import summary, comparator\n",
    "\n",
    "%matplotlib inline\n",
    "np.random.seed(1)"
   ]
  },
  {
   "cell_type": "markdown",
   "metadata": {},
   "source": [
    "<a name='1-1'></a>\n",
    "### 1.1 - Load the Data and Split the Data into Train/Test Sets\n",
    "\n",
    "You'll be using the Happy House dataset for this part of the assignment, which contains images of peoples' faces. Your task will be to build a ConvNet that determines whether the people in the images are smiling or not -- because they only get to enter the house if they're smiling!  "
   ]
  },
  {
   "cell_type": "code",
   "execution_count": 4,
   "metadata": {},
   "outputs": [
    {
     "name": "stdout",
     "output_type": "stream",
     "text": [
      "number of training examples = 600\n",
      "number of test examples = 150\n",
      "X_train shape: (600, 64, 64, 3)\n",
      "Y_train shape: (600, 1)\n",
      "X_test shape: (150, 64, 64, 3)\n",
      "Y_test shape: (150, 1)\n"
     ]
    }
   ],
   "source": [
    "X_train_orig, Y_train_orig, X_test_orig, Y_test_orig, classes = load_happy_dataset()\n",
    "\n",
    "# Normalize image vectors\n",
    "X_train = X_train_orig/255.\n",
    "X_test = X_test_orig/255.\n",
    "\n",
    "# Reshape\n",
    "Y_train = Y_train_orig.T\n",
    "Y_test = Y_test_orig.T\n",
    "\n",
    "print (\"number of training examples = \" + str(X_train.shape[0]))\n",
    "print (\"number of test examples = \" + str(X_test.shape[0]))\n",
    "print (\"X_train shape: \" + str(X_train.shape))\n",
    "print (\"Y_train shape: \" + str(Y_train.shape))\n",
    "print (\"X_test shape: \" + str(X_test.shape))\n",
    "print (\"Y_test shape: \" + str(Y_test.shape))"
   ]
  },
  {
   "cell_type": "markdown",
   "metadata": {},
   "source": [
    "You can display the images contained in the dataset. Images are **64x64** pixels in RGB format (3 channels)."
   ]
  },
  {
   "cell_type": "code",
   "execution_count": 5,
   "metadata": {},
   "outputs": [
    {
     "data": {
      "image/png": "[encoded data removed]",
      "text/plain": [
       "<Figure size 432x288 with 1 Axes>"
      ]
     },
     "metadata": {
      "needs_background": "light"
     },
     "output_type": "display_data"
    }
   ],
   "source": [
    "index = 124\n",
    "plt.imshow(X_train_orig[index]) #display sample training image\n",
    "plt.show()"
   ]
  },
  {
   "cell_type": "markdown",
   "metadata": {},
   "source": [
    "<a name='2'></a>\n",
    "## 2 - Layers in TF Keras \n",
    "\n",
    "In the previous assignment, you created layers manually in numpy. In TF Keras, you don't have to write code directly to create layers. Rather, TF Keras has pre-defined layers you can use. \n",
    "\n",
    "When you create a layer in TF Keras, you are creating a function that takes some input and transforms it into an output you can reuse later. Nice and easy! "
   ]
  },
  {
   "cell_type": "markdown",
   "metadata": {},
   "source": [
    "<a name='3'></a>\n",
    "## 3 - The Sequential API\n",
    "\n",
    "In the previous assignment, you built helper functions using `numpy` to understand the mechanics behind convolutional neural networks. Most practical applications of deep learning today are built using programming frameworks, which have many built-in functions you can simply call. Keras is a high-level abstraction built on top of TensorFlow, which allows for even more simplified and optimized model creation and training. \n",
    "\n",
    "For the first part of this assignment, you'll create a model using TF Keras' Sequential API, which allows you to build layer by layer, and is ideal for building models where each layer has **exactly one** input tensor and **one** output tensor. \n",
    "\n",
    "As you'll see, using the Sequential API is simple and straightforward, but is only appropriate for simpler, more straightforward tasks. Later in this notebook you'll spend some time building with a more flexible, powerful alternative: the Functional API. \n",
    " "
   ]
  },
  {
   "cell_type": "markdown",
   "metadata": {},
   "source": [
    "<a name='3-1'></a>\n",
    "### 3.1 - Create the Sequential Model\n",
    "\n",
    "As mentioned earlier, the TensorFlow Keras Sequential API can be used to build simple models with layer operations that proceed in a sequential order. \n",
    "\n",
    "You can also add layers incrementally to a Sequential model with the `.add()` method, or remove them using the `.pop()` method, much like you would in a regular Python list.\n",
    "\n",
    "Actually, you can think of a Sequential model as behaving like a list of layers. Like Python lists, Sequential layers are ordered, and the order in which they are specified matters.  If your model is non-linear or contains layers with multiple inputs or outputs, a Sequential model wouldn't be the right choice!\n",
    "\n",
    "For any layer construction in Keras, you'll need to specify the input shape in advance. This is because in Keras, the shape of the weights is based on the shape of the inputs. The weights are only created when the model first sees some input data. Sequential models can be created by passing a list of layers to the Sequential constructor, like you will do in the next assignment.\n",
    "\n",
    "<a name='ex-1'></a>\n",
    "### Exercise 1 - happyModel\n",
    "\n",
    "Implement the `happyModel` function below to build the following model: `ZEROPAD2D -> CONV2D -> BATCHNORM -> RELU -> MAXPOOL -> FLATTEN -> DENSE`. Take help from [tf.keras.layers](https://www.tensorflow.org/api_docs/python/tf/keras/layers) \n",
    "\n",
    "Also, plug in the following parameters for all the steps:\n",
    "\n",
    " - [ZeroPadding2D](https://www.tensorflow.org/api_docs/python/tf/keras/layers/ZeroPadding2D): padding 3, input shape 64 x 64 x 3\n",
    " - [Conv2D](https://www.tensorflow.org/api_docs/python/tf/keras/layers/Conv2D): Use 32 7x7 filters, stride 1\n",
    " - [BatchNormalization](https://www.tensorflow.org/api_docs/python/tf/keras/layers/BatchNormalization): for axis 3\n",
    " - [ReLU](https://www.tensorflow.org/api_docs/python/tf/keras/layers/ReLU)\n",
    " - [MaxPool2D](https://www.tensorflow.org/api_docs/python/tf/keras/layers/MaxPool2D): Using default parameters\n",
    " - [Flatten](https://www.tensorflow.org/api_docs/python/tf/keras/layers/Flatten) the previous output.\n",
    " - Fully-connected ([Dense](https://www.tensorflow.org/api_docs/python/tf/keras/layers/Dense)) layer: Apply a fully connected layer with 1 neuron and a sigmoid activation. \n",
    " \n",
    " \n",
    " **Hint:**\n",
    " \n",
    " Use **tfl** as shorthand for **tensorflow.keras.layers**"
   ]
  },
  {
   "cell_type": "code",
   "execution_count": 16,
   "metadata": {
    "deletable": false,
    "nbgrader": {
     "cell_type": "code",
     "checksum": "95d28b191f257bdd5b70c7b8952559d5",
     "grade": false,
     "grade_id": "cell-0e56d3fc28b69aec",
     "locked": false,
     "schema_version": 3,
     "solution": true,
     "task": false
    }
   },
   "outputs": [],
   "source": [
    "# GRADED FUNCTION: happyModel\n",
    "\n",
    "def happyModel():\n",
    "    \"\"\"\n",
    "    Implements the forward propagation for the binary classification model:\n",
    "    ZEROPAD2D -> CONV2D -> BATCHNORM -> RELU -> MAXPOOL -> FLATTEN -> DENSE\n",
    "    \n",
    "    Note that for simplicity and grading purposes, you'll hard-code all the values\n",
    "    such as the stride and kernel (filter) sizes. \n",
    "    Normally, functions should take these values as function parameters.\n",
    "    \n",
    "    Arguments:\n",
    "    None\n",
    "\n",
    "    Returns:\n",
    "    model -- TF Keras model (object containing the information for the entire training process) \n",
    "    \"\"\"\n",
    "    model = tf.keras.Sequential([\n",
    "            ## ZeroPadding2D with padding 3, input shape of 64 x 64 x 3\n",
    "            \n",
    "            ## Conv2D with 32 7x7 filters and stride of 1\n",
    "            \n",
    "            ## BatchNormalization for axis 3\n",
    "            \n",
    "            ## ReLU\n",
    "            \n",
    "            ## Max Pooling 2D with default parameters\n",
    "            \n",
    "            ## Flatten layer\n",
    "            \n",
    "            ## Dense layer with 1 unit for output & 'sigmoid' activation\n",
    "            \n",
    "            # YOUR CODE STARTS HERE\n",
    "            \n",
    "            tf.keras.layers.ZeroPadding2D(padding=3, input_shape = (64, 64, 3), data_format=\"channels_last\"),\n",
    "            tf.keras.layers.Conv2D(filters = 32, kernel_size = 7, strides = 1),\n",
    "            tf.keras.layers.BatchNormalization(axis = 3),\n",
    "            tf.keras.layers.ReLU(),\n",
    "            tf.keras.layers.MaxPooling2D(),\n",
    "            tf.keras.layers.Flatten(),\n",
    "            tf.keras.layers.Dense(units = 1, activation = \"sigmoid\")\n",
    "            # YOUR CODE ENDS HERE\n",
    "        ])\n",
    "    \n",
    "    return model"
   ]
  },
  {
   "cell_type": "code",
   "execution_count": 17,
   "metadata": {
    "deletable": false,
    "editable": false,
    "nbgrader": {
     "cell_type": "code",
     "checksum": "8d3575c950e2e78149be2d05d671c80d",
     "grade": true,
     "grade_id": "cell-e3e1046e5c33d775",
     "locked": true,
     "points": 10,
     "schema_version": 3,
     "solution": false,
     "task": false
    }
   },
   "outputs": [
    {
     "name": "stdout",
     "output_type": "stream",
     "text": [
      "['ZeroPadding2D', (None, 70, 70, 3), 0, ((3, 3), (3, 3))]\n",
      "['Conv2D', (None, 64, 64, 32), 4736, 'valid', 'linear', 'GlorotUniform']\n",
      "['BatchNormalization', (None, 64, 64, 32), 128]\n",
      "['ReLU', (None, 64, 64, 32), 0]\n",
      "['MaxPooling2D', (None, 32, 32, 32), 0, (2, 2), (2, 2), 'valid']\n",
      "['Flatten', (None, 32768), 0]\n",
      "['Dense', (None, 1), 32769, 'sigmoid']\n",
      "\u001b[32mAll tests passed!\u001b[0m\n"
     ]
    }
   ],
   "source": [
    "happy_model = happyModel()\n",
    "# Print a summary for each layer\n",
    "for layer in summary(happy_model):\n",
    "    print(layer)\n",
    "    \n",
    "output = [['ZeroPadding2D', (None, 70, 70, 3), 0, ((3, 3), (3, 3))],\n",
    "            ['Conv2D', (None, 64, 64, 32), 4736, 'valid', 'linear', 'GlorotUniform'],\n",
    "            ['BatchNormalization', (None, 64, 64, 32), 128],\n",
    "            ['ReLU', (None, 64, 64, 32), 0],\n",
    "            ['MaxPooling2D', (None, 32, 32, 32), 0, (2, 2), (2, 2), 'valid'],\n",
    "            ['Flatten', (None, 32768), 0],\n",
    "            ['Dense', (None, 1), 32769, 'sigmoid']]\n",
    "    \n",
    "comparator(summary(happy_model), output)"
   ]
  },
  {
   "cell_type": "markdown",
   "metadata": {},
   "source": [
    "#### Expected Output:\n",
    "\n",
    "```\n",
    "['ZeroPadding2D', (None, 70, 70, 3), 0, ((3, 3), (3, 3))]\n",
    "['Conv2D', (None, 64, 64, 32), 4736, 'valid', 'linear', 'GlorotUniform']\n",
    "['BatchNormalization', (None, 64, 64, 32), 128]\n",
    "['ReLU', (None, 64, 64, 32), 0]\n",
    "['MaxPooling2D', (None, 32, 32, 32), 0, (2, 2), (2, 2), 'valid']\n",
    "['Flatten', (None, 32768), 0]\n",
    "['Dense', (None, 1), 32769, 'sigmoid']\n",
    "All tests passed!\n",
    "```"
   ]
  },
  {
   "cell_type": "markdown",
   "metadata": {},
   "source": [
    "Now that your model is created, you can compile it for training with an optimizer and loss of your choice. When the string `accuracy` is specified as a metric, the type of accuracy used will be automatically converted based on the loss function used. This is one of the many optimizations built into TensorFlow that make your life easier! If you'd like to read more on how the compiler operates, check the docs [here](https://www.tensorflow.org/api_docs/python/tf/keras/Model#compile)."
   ]
  },
  {
   "cell_type": "code",
   "execution_count": 18,
   "metadata": {},
   "outputs": [],
   "source": [
    "happy_model.compile(optimizer='adam',\n",
    "                   loss='binary_crossentropy',\n",
    "                   metrics=['accuracy'])"
   ]
  },
  {
   "cell_type": "markdown",
   "metadata": {},
   "source": [
    "It's time to check your model's parameters with the `.summary()` method. This will display the types of layers you have, the shape of the outputs, and how many parameters are in each layer. "
   ]
  },
  {
   "cell_type": "code",
   "execution_count": 19,
   "metadata": {},
   "outputs": [
    {
     "name": "stdout",
     "output_type": "stream",
     "text": [
      "Model: \"sequential_3\"\n",
      "_________________________________________________________________\n",
      "Layer (type)                 Output Shape              Param #   \n",
      "=================================================================\n",
      "zero_padding2d_3 (ZeroPaddin (None, 70, 70, 3)         0         \n",
      "_________________________________________________________________\n",
      "conv2d_3 (Conv2D)            (None, 64, 64, 32)        4736      \n",
      "_________________________________________________________________\n",
      "batch_normalization_3 (Batch (None, 64, 64, 32)        128       \n",
      "_________________________________________________________________\n",
      "re_lu_3 (ReLU)               (None, 64, 64, 32)        0         \n",
      "_________________________________________________________________\n",
      "max_pooling2d_3 (MaxPooling2 (None, 32, 32, 32)        0         \n",
      "_________________________________________________________________\n",
      "flatten_3 (Flatten)          (None, 32768)             0         \n",
      "_________________________________________________________________\n",
      "dense_3 (Dense)              (None, 1)                 32769     \n",
      "=================================================================\n",
      "Total params: 37,633\n",
      "Trainable params: 37,569\n",
      "Non-trainable params: 64\n",
      "_________________________________________________________________\n"
     ]
    }
   ],
   "source": [
    "happy_model.summary()"
   ]
  },
  {
   "cell_type": "markdown",
   "metadata": {},
   "source": [
    "<a name='3-2'></a>\n",
    "### 3.2 - Train and Evaluate the Model\n",
    "\n",
    "After creating the model, compiling it with your choice of optimizer and loss function, and doing a sanity check on its contents, you are now ready to build! \n",
    "\n",
    "Simply call `.fit()` to train. That's it! No need for mini-batching, saving, or complex backpropagation computations. That's all been done for you, as you're using a TensorFlow dataset with the batches specified already. You do have the option to specify epoch number or minibatch size if you like (for example, in the case of an un-batched dataset)."
   ]
  },
  {
   "cell_type": "code",
   "execution_count": 20,
   "metadata": {},
   "outputs": [
    {
     "name": "stdout",
     "output_type": "stream",
     "text": [
      "Epoch 1/10\n",
      "38/38 [==============================] - 4s 98ms/step - loss: 0.6253 - accuracy: 0.7733\n",
      "Epoch 2/10\n",
      "38/38 [==============================] - 4s 97ms/step - loss: 0.2565 - accuracy: 0.8917\n",
      "Epoch 3/10\n",
      "38/38 [==============================] - 4s 95ms/step - loss: 0.1067 - accuracy: 0.9617\n",
      "Epoch 4/10\n",
      "38/38 [==============================] - 4s 95ms/step - loss: 0.1092 - accuracy: 0.9583\n",
      "Epoch 5/10\n",
      "38/38 [==============================] - 4s 95ms/step - loss: 0.2763 - accuracy: 0.8900\n",
      "Epoch 6/10\n",
      "38/38 [==============================] - 4s 95ms/step - loss: 0.1469 - accuracy: 0.9367\n",
      "Epoch 7/10\n",
      "38/38 [==============================] - 4s 97ms/step - loss: 0.2050 - accuracy: 0.9317\n",
      "Epoch 8/10\n",
      "38/38 [==============================] - 4s 95ms/step - loss: 0.1620 - accuracy: 0.9417\n",
      "Epoch 9/10\n",
      "38/38 [==============================] - 4s 95ms/step - loss: 0.0908 - accuracy: 0.9650\n",
      "Epoch 10/10\n",
      "38/38 [==============================] - 4s 95ms/step - loss: 0.0815 - accuracy: 0.9733\n"
     ]
    },
    {
     "data": {
      "text/plain": [
       "<tensorflow.python.keras.callbacks.History at 0x7f1b6aa2d090>"
      ]
     },
     "execution_count": 20,
     "metadata": {},
     "output_type": "execute_result"
    }
   ],
   "source": [
    "happy_model.fit(X_train, Y_train, epochs=10, batch_size=16)"
   ]
  },
  {
   "cell_type": "markdown",
   "metadata": {},
   "source": [
    "After that completes, just use `.evaluate()` to evaluate against your test set. This function will print the value of the loss function and the performance metrics specified during the compilation of the model. In this case, the `binary_crossentropy` and the `accuracy` respectively."
   ]
  },
  {
   "cell_type": "code",
   "execution_count": 21,
   "metadata": {},
   "outputs": [
    {
     "name": "stdout",
     "output_type": "stream",
     "text": [
      "5/5 [==============================] - 0s 34ms/step - loss: 0.7651 - accuracy: 0.7000\n"
     ]
    },
    {
     "data": {
      "text/plain": [
       "[0.7651159763336182, 0.699999988079071]"
      ]
     },
     "execution_count": 21,
     "metadata": {},
     "output_type": "execute_result"
    }
   ],
   "source": [
    "happy_model.evaluate(X_test, Y_test)"
   ]
  },
  {
   "cell_type": "markdown",
   "metadata": {},
   "source": [
    "Easy, right? But what if you need to build a model with shared layers, branches, or multiple inputs and outputs? This is where Sequential, with its beautifully simple yet limited functionality, won't be able to help you. \n",
    "\n",
    "Next up: Enter the Functional API, your slightly more complex, highly flexible friend.  "
   ]
  },
  {
   "cell_type": "markdown",
   "metadata": {},
   "source": [
    "<a name='4'></a>\n",
    "## 4 - The Functional API"
   ]
  },
  {
   "cell_type": "markdown",
   "metadata": {},
   "source": [
    "Welcome to the second half of the assignment, where you'll use Keras' flexible [Functional API](https://www.tensorflow.org/guide/keras/functional) to build a ConvNet that can differentiate between 6 sign language digits. \n",
    "\n",
    "The Functional API can handle models with non-linear topology, shared layers, as well as layers with multiple inputs or outputs. Imagine that, where the Sequential API requires the model to move in a linear fashion through its layers, the Functional API allows much more flexibility. Where Sequential is a straight line, a Functional model is a graph, where the nodes of the layers can connect in many more ways than one. \n",
    "\n",
    "In the visual example below, the one possible direction of the movement Sequential model is shown in contrast to a skip connection, which is just one of the many ways a Functional model can be constructed. A skip connection, as you might have guessed, skips some layer in the network and feeds the output to a later layer in the network. Don't worry, you'll be spending more time with skip connections very soon! "
   ]
  },
  {
   "cell_type": "markdown",
   "metadata": {},
   "source": [
    "<img src=\"images/seq_vs_func.png\" style=\"width:350px;height:200px;\">"
   ]
  },
  {
   "cell_type": "markdown",
   "metadata": {},
   "source": [
    "<a name='4-1'></a>\n",
    "### 4.1 - Load the SIGNS Dataset\n",
    "\n",
    "As a reminder, the SIGNS dataset is a collection of 6 signs representing numbers from 0 to 5."
   ]
  },
  {
   "cell_type": "code",
   "execution_count": null,
   "metadata": {},
   "outputs": [],
   "source": [
    "# Loading the data (signs)\n",
    "X_train_orig, Y_train_orig, X_test_orig, Y_test_orig, classes = load_signs_dataset()"
   ]
  },
  {
   "cell_type": "markdown",
   "metadata": {},
   "source": [
    "<img src=\"images/SIGNS.png\" style=\"width:800px;height:300px;\">\n",
    "\n",
    "The next cell will show you an example of a labelled image in the dataset. Feel free to change the value of `index` below and re-run to see different examples. "
   ]
  },
  {
   "cell_type": "code",
   "execution_count": 22,
   "metadata": {},
   "outputs": [
    {
     "name": "stdout",
     "output_type": "stream",
     "text": [
      "y = 1\n"
     ]
    },
    {
     "data": {
      "image/png": "[encoded data removed]",
      "text/plain": [
       "<Figure size 432x288 with 1 Axes>"
      ]
     },
     "metadata": {
      "needs_background": "light"
     },
     "output_type": "display_data"
    }
   ],
   "source": [
    "# Example of an image from the dataset\n",
    "index = 9\n",
    "plt.imshow(X_train_orig[index])\n",
    "print (\"y = \" + str(np.squeeze(Y_train_orig[:, index])))"
   ]
  },
  {
   "cell_type": "markdown",
   "metadata": {},
   "source": [
    "<a name='4-2'></a>\n",
    "### 4.2 - Split the Data into Train/Test Sets\n",
    "\n",
    "In Course 2, you built a fully-connected network for this dataset. But since this is an image dataset, it is more natural to apply a ConvNet to it.\n",
    "\n",
    "To get started, let's examine the shapes of your data. "
   ]
  },
  {
   "cell_type": "code",
   "execution_count": 23,
   "metadata": {},
   "outputs": [
    {
     "name": "stdout",
     "output_type": "stream",
     "text": [
      "number of training examples = 600\n",
      "number of test examples = 150\n",
      "X_train shape: (600, 64, 64, 3)\n",
      "Y_train shape: (600, 6)\n",
      "X_test shape: (150, 64, 64, 3)\n",
      "Y_test shape: (150, 6)\n"
     ]
    }
   ],
   "source": [
    "X_train = X_train_orig/255.\n",
    "X_test = X_test_orig/255.\n",
    "Y_train = convert_to_one_hot(Y_train_orig, 6).T\n",
    "Y_test = convert_to_one_hot(Y_test_orig, 6).T\n",
    "print (\"number of training examples = \" + str(X_train.shape[0]))\n",
    "print (\"number of test examples = \" + str(X_test.shape[0]))\n",
    "print (\"X_train shape: \" + str(X_train.shape))\n",
    "print (\"Y_train shape: \" + str(Y_train.shape))\n",
    "print (\"X_test shape: \" + str(X_test.shape))\n",
    "print (\"Y_test shape: \" + str(Y_test.shape))"
   ]
  },
  {
   "cell_type": "markdown",
   "metadata": {},
   "source": [
    "<a name='4-3'></a>\n",
    "### 4.3 - Forward Propagation\n",
    "\n",
    "In TensorFlow, there are built-in functions that implement the convolution steps for you. By now, you should be familiar with how TensorFlow builds computational graphs. In the [Functional API](https://www.tensorflow.org/guide/keras/functional), you create a graph of layers. This is what allows such great flexibility.\n",
    "\n",
    "However, the following model could also be defined using the Sequential API since the information flow is on a single line. But don't deviate. What we want you to learn is to use the functional API.\n",
    "\n",
    "Begin building your graph of layers by creating an input node that functions as a callable object:\n",
    "\n",
    "- **input_img = tf.keras.Input(shape=input_shape):** \n",
    "\n",
    "Then, create a new node in the graph of layers by calling a layer on the `input_img` object: \n",
    "\n",
    "- **tf.keras.layers.Conv2D(filters= ... , kernel_size= ... , padding='same')(input_img):** Read the full documentation on [Conv2D](https://www.tensorflow.org/api_docs/python/tf/keras/layers/Conv2D).\n",
    "\n",
    "- **tf.keras.layers.MaxPool2D(pool_size=(f, f), strides=(s, s), padding='same'):** `MaxPool2D()` downsamples your input using a window of size (f, f) and strides of size (s, s) to carry out max pooling over each window.  For max pooling, you usually operate on a single example at a time and a single channel at a time. Read the full documentation on [MaxPool2D](https://www.tensorflow.org/api_docs/python/tf/keras/layers/MaxPool2D).\n",
    "\n",
    "- **tf.keras.layers.ReLU():** computes the elementwise ReLU of Z (which can be any shape). You can read the full documentation on [ReLU](https://www.tensorflow.org/api_docs/python/tf/keras/layers/ReLU).\n",
    "\n",
    "- **tf.keras.layers.Flatten()**: given a tensor \"P\", this function takes each training (or test) example in the batch and flattens it into a 1D vector.  \n",
    "\n",
    "    * If a tensor P has the shape (batch_size,h,w,c), it returns a flattened tensor with shape (batch_size, k), where $k=h \\times w \\times c$.  \"k\" equals the product of all the dimension sizes other than the first dimension.\n",
    "    \n",
    "    * For example, given a tensor with dimensions [100, 2, 3, 4], it flattens the tensor to be of shape [100, 24], where 24 = 2 * 3 * 4.  You can read the full documentation on [Flatten](https://www.tensorflow.org/api_docs/python/tf/keras/layers/Flatten).\n",
    "\n",
    "- **tf.keras.layers.Dense(units= ... , activation='softmax')(F):** given the flattened input F, it returns the output computed using a fully connected layer. You can read the full documentation on [Dense](https://www.tensorflow.org/api_docs/python/tf/keras/layers/Dense).\n",
    "\n",
    "In the last function above (`tf.keras.layers.Dense()`), the fully connected layer automatically initializes weights in the graph and keeps on training them as you train the model. Hence, you did not need to initialize those weights when initializing the parameters.\n",
    "\n",
    "Lastly, before creating the model, you'll need to define the output using the last of the function's compositions (in this example, a Dense layer): \n",
    "\n",
    "- **outputs = tf.keras.layers.Dense(units=6, activation='softmax')(F)**\n",
    "\n",
    "\n",
    "#### Window, kernel, filter, pool\n",
    "\n",
    "The words \"kernel\" and \"filter\" are used to refer to the same thing. The word \"filter\" accounts for the amount of \"kernels\" that will be used in a single convolution layer. \"Pool\" is the name of the operation that takes the max or average value of the kernels. \n",
    "\n",
    "This is why the parameter `pool_size` refers to `kernel_size`, and you use `(f,f)` to refer to the filter size. \n",
    "\n",
    "Pool size and kernel size refer to the same thing in different objects - They refer to the shape of the window where the operation takes place. "
   ]
  },
  {
   "cell_type": "markdown",
   "metadata": {},
   "source": [
    "<a name='ex-2'></a>\n",
    "### Exercise 2 - convolutional_model\n",
    "\n",
    "Implement the `convolutional_model` function below to build the following model: `CONV2D -> RELU -> MAXPOOL -> CONV2D -> RELU -> MAXPOOL -> FLATTEN -> DENSE`. Use the functions above! \n",
    "\n",
    "Also, plug in the following parameters for all the steps:\n",
    "\n",
    " - [Conv2D](https://www.tensorflow.org/api_docs/python/tf/keras/layers/Conv2D): Use 8 4 by 4 filters, stride 1, padding is \"SAME\"\n",
    " - [ReLU](https://www.tensorflow.org/api_docs/python/tf/keras/layers/ReLU)\n",
    " - [MaxPool2D](https://www.tensorflow.org/api_docs/python/tf/keras/layers/MaxPool2D): Use an 8 by 8 filter size and an 8 by 8 stride, padding is \"SAME\"\n",
    " - **Conv2D**: Use 16 2 by 2 filters, stride 1, padding is \"SAME\"\n",
    " - **ReLU**\n",
    " - **MaxPool2D**: Use a 4 by 4 filter size and a 4 by 4 stride, padding is \"SAME\"\n",
    " - [Flatten](https://www.tensorflow.org/api_docs/python/tf/keras/layers/Flatten) the previous output.\n",
    " - Fully-connected ([Dense](https://www.tensorflow.org/api_docs/python/tf/keras/layers/Dense)) layer: Apply a fully connected layer with 6 neurons and a softmax activation. "
   ]
  },
  {
   "cell_type": "code",
   "execution_count": 31,
   "metadata": {
    "deletable": false,
    "nbgrader": {
     "cell_type": "code",
     "checksum": "f58643806aa8380c96225fc8b4c5e7aa",
     "grade": false,
     "grade_id": "cell-dac51744a9e03f51",
     "locked": false,
     "schema_version": 3,
     "solution": true,
     "task": false
    }
   },
   "outputs": [],
   "source": [
    "# GRADED FUNCTION: convolutional_model\n",
    "\n",
    "def convolutional_model(input_shape):\n",
    "    \"\"\"\n",
    "    Implements the forward propagation for the model:\n",
    "    CONV2D -> RELU -> MAXPOOL -> CONV2D -> RELU -> MAXPOOL -> FLATTEN -> DENSE\n",
    "    \n",
    "    Note that for simplicity and grading purposes, you'll hard-code some values\n",
    "    such as the stride and kernel (filter) sizes. \n",
    "    Normally, functions should take these values as function parameters.\n",
    "    \n",
    "    Arguments:\n",
    "    input_img -- input dataset, of shape (input_shape)\n",
    "\n",
    "    Returns:\n",
    "    model -- TF Keras model (object containing the information for the entire training process) \n",
    "    \"\"\"\n",
    "\n",
    "    input_img = tf.keras.Input(shape=input_shape)\n",
    "    ## CONV2D: 8 filters 4x4, stride of 1, padding 'SAME'\n",
    "    # Z1 = None\n",
    "    ## RELU\n",
    "    # A1 = None\n",
    "    ## MAXPOOL: window 8x8, stride 8, padding 'SAME'\n",
    "    # P1 = None\n",
    "    ## CONV2D: 16 filters 2x2, stride 1, padding 'SAME'\n",
    "    # Z2 = None\n",
    "    ## RELU\n",
    "    # A2 = None\n",
    "    ## MAXPOOL: window 4x4, stride 4, padding 'SAME'\n",
    "    # P2 = None\n",
    "    ## FLATTEN\n",
    "    # F = None\n",
    "    ## Dense layer\n",
    "    ## 6 neurons in output layer. Hint: one of the arguments should be \"activation='softmax'\" \n",
    "    # outputs = None\n",
    "    # YOUR CODE STARTS HERE\n",
    "    \n",
    "    Z1 = tf.keras.layers.Conv2D(filters=8, kernel_size=4, padding='same')(input_img)\n",
    "    A1 = tf.keras.layers.ReLU()(Z1)\n",
    "    P1 = tf.keras.layers.MaxPool2D(pool_size=8, strides=8, padding='same')(A1)\n",
    "    Z2 = tf.keras.layers.Conv2D(filters=16, kernel_size=2, padding='same')(P1)\n",
    "    A2 = tf.keras.layers.ReLU()(Z2)\n",
    "    P2 = tf.keras.layers.MaxPool2D(pool_size=4, strides=4, padding='same')(A2)\n",
    "    F = tf.keras.layers.Flatten()(P2)\n",
    "    outputs = tf.keras.layers.Dense(units=6 , activation='softmax')(F)\n",
    "    \n",
    "    # YOUR CODE ENDS HERE\n",
    "    model = tf.keras.Model(inputs=input_img, outputs=outputs)\n",
    "    return model"
   ]
  },
  {
   "cell_type": "code",
   "execution_count": 32,
   "metadata": {
    "deletable": false,
    "editable": false,
    "nbgrader": {
     "cell_type": "code",
     "checksum": "483d626949930a0b0ef20997e7c6ba72",
     "grade": true,
     "grade_id": "cell-45d22e92042174c9",
     "locked": true,
     "points": 10,
     "schema_version": 3,
     "solution": false,
     "task": false
    }
   },
   "outputs": [
    {
     "name": "stdout",
     "output_type": "stream",
     "text": [
      "Model: \"functional_9\"\n",
      "_________________________________________________________________\n",
      "Layer (type)                 Output Shape              Param #   \n",
      "=================================================================\n",
      "input_6 (InputLayer)         [(None, 64, 64, 3)]       0         \n",
      "_________________________________________________________________\n",
      "conv2d_14 (Conv2D)           (None, 64, 64, 8)         392       \n",
      "_________________________________________________________________\n",
      "re_lu_13 (ReLU)              (None, 64, 64, 8)         0         \n",
      "_________________________________________________________________\n",
      "max_pooling2d_13 (MaxPooling (None, 8, 8, 8)           0         \n",
      "_________________________________________________________________\n",
      "conv2d_15 (Conv2D)           (None, 8, 8, 16)          528       \n",
      "_________________________________________________________________\n",
      "re_lu_14 (ReLU)              (None, 8, 8, 16)          0         \n",
      "_________________________________________________________________\n",
      "max_pooling2d_14 (MaxPooling (None, 2, 2, 16)          0         \n",
      "_________________________________________________________________\n",
      "flatten_8 (Flatten)          (None, 64)                0         \n",
      "_________________________________________________________________\n",
      "dense_8 (Dense)              (None, 6)                 390       \n",
      "=================================================================\n",
      "Total params: 1,310\n",
      "Trainable params: 1,310\n",
      "Non-trainable params: 0\n",
      "_________________________________________________________________\n",
      "\u001b[32mAll tests passed!\u001b[0m\n"
     ]
    }
   ],
   "source": [
    "conv_model = convolutional_model((64, 64, 3))\n",
    "conv_model.compile(optimizer='adam',\n",
    "                  loss='categorical_crossentropy',\n",
    "                  metrics=['accuracy'])\n",
    "conv_model.summary()\n",
    "    \n",
    "output = [['InputLayer', [(None, 64, 64, 3)], 0],\n",
    "        ['Conv2D', (None, 64, 64, 8), 392, 'same', 'linear', 'GlorotUniform'],\n",
    "        ['ReLU', (None, 64, 64, 8), 0],\n",
    "        ['MaxPooling2D', (None, 8, 8, 8), 0, (8, 8), (8, 8), 'same'],\n",
    "        ['Conv2D', (None, 8, 8, 16), 528, 'same', 'linear', 'GlorotUniform'],\n",
    "        ['ReLU', (None, 8, 8, 16), 0],\n",
    "        ['MaxPooling2D', (None, 2, 2, 16), 0, (4, 4), (4, 4), 'same'],\n",
    "        ['Flatten', (None, 64), 0],\n",
    "        ['Dense', (None, 6), 390, 'softmax']]\n",
    "    \n",
    "comparator(summary(conv_model), output)"
   ]
  },
  {
   "cell_type": "markdown",
   "metadata": {},
   "source": [
    "Both the Sequential and Functional APIs return a TF Keras model object. The only difference is how inputs are handled inside the object model! "
   ]
  },
  {
   "cell_type": "markdown",
   "metadata": {},
   "source": [
    "<a name='4-4'></a>\n",
    "### 4.4 - Train the Model"
   ]
  },
  {
   "cell_type": "code",
   "execution_count": 33,
   "metadata": {},
   "outputs": [
    {
     "name": "stdout",
     "output_type": "stream",
     "text": [
      "Epoch 1/100\n",
      "10/10 [==============================] - 1s 110ms/step - loss: 1.9739 - accuracy: 0.0567 - val_loss: 1.6742 - val_accuracy: 0.5400\n",
      "Epoch 2/100\n",
      "10/10 [==============================] - 1s 112ms/step - loss: 1.5187 - accuracy: 0.4550 - val_loss: 1.2731 - val_accuracy: 0.4733\n",
      "Epoch 3/100\n",
      "10/10 [==============================] - 1s 100ms/step - loss: 1.0866 - accuracy: 0.5267 - val_loss: 0.8859 - val_accuracy: 0.4400\n",
      "Epoch 4/100\n",
      "10/10 [==============================] - 1s 109ms/step - loss: 0.7872 - accuracy: 0.5183 - val_loss: 0.7249 - val_accuracy: 0.4667\n",
      "Epoch 5/100\n",
      "10/10 [==============================] - 1s 100ms/step - loss: 0.6981 - accuracy: 0.6283 - val_loss: 0.6884 - val_accuracy: 0.5400\n",
      "Epoch 6/100\n",
      "10/10 [==============================] - 1s 101ms/step - loss: 0.6759 - accuracy: 0.6550 - val_loss: 0.6823 - val_accuracy: 0.5267\n",
      "Epoch 7/100\n",
      "10/10 [==============================] - 1s 99ms/step - loss: 0.6677 - accuracy: 0.6750 - val_loss: 0.6759 - val_accuracy: 0.5400\n",
      "Epoch 8/100\n",
      "10/10 [==============================] - 1s 101ms/step - loss: 0.6612 - accuracy: 0.6733 - val_loss: 0.6693 - val_accuracy: 0.5867\n",
      "Epoch 9/100\n",
      "10/10 [==============================] - 1s 100ms/step - loss: 0.6555 - accuracy: 0.7067 - val_loss: 0.6662 - val_accuracy: 0.5867\n",
      "Epoch 10/100\n",
      "10/10 [==============================] - 1s 98ms/step - loss: 0.6505 - accuracy: 0.7267 - val_loss: 0.6611 - val_accuracy: 0.6467\n",
      "Epoch 11/100\n",
      "10/10 [==============================] - 1s 100ms/step - loss: 0.6447 - accuracy: 0.7383 - val_loss: 0.6570 - val_accuracy: 0.6800\n",
      "Epoch 12/100\n",
      "10/10 [==============================] - 1s 100ms/step - loss: 0.6390 - accuracy: 0.7367 - val_loss: 0.6526 - val_accuracy: 0.6667\n",
      "Epoch 13/100\n",
      "10/10 [==============================] - 1s 100ms/step - loss: 0.6332 - accuracy: 0.7383 - val_loss: 0.6484 - val_accuracy: 0.6733\n",
      "Epoch 14/100\n",
      "10/10 [==============================] - 1s 99ms/step - loss: 0.6275 - accuracy: 0.7433 - val_loss: 0.6438 - val_accuracy: 0.6867\n",
      "Epoch 15/100\n",
      "10/10 [==============================] - 1s 100ms/step - loss: 0.6216 - accuracy: 0.7517 - val_loss: 0.6398 - val_accuracy: 0.7067\n",
      "Epoch 16/100\n",
      "10/10 [==============================] - 1s 100ms/step - loss: 0.6157 - accuracy: 0.7533 - val_loss: 0.6357 - val_accuracy: 0.7133\n",
      "Epoch 17/100\n",
      "10/10 [==============================] - 1s 100ms/step - loss: 0.6098 - accuracy: 0.7583 - val_loss: 0.6317 - val_accuracy: 0.7200\n",
      "Epoch 18/100\n",
      "10/10 [==============================] - 1s 101ms/step - loss: 0.6037 - accuracy: 0.7633 - val_loss: 0.6276 - val_accuracy: 0.7200\n",
      "Epoch 19/100\n",
      "10/10 [==============================] - 1s 101ms/step - loss: 0.5973 - accuracy: 0.7650 - val_loss: 0.6235 - val_accuracy: 0.7267\n",
      "Epoch 20/100\n",
      "10/10 [==============================] - 1s 100ms/step - loss: 0.5906 - accuracy: 0.7733 - val_loss: 0.6198 - val_accuracy: 0.7267\n",
      "Epoch 21/100\n",
      "10/10 [==============================] - 1s 100ms/step - loss: 0.5837 - accuracy: 0.7683 - val_loss: 0.6168 - val_accuracy: 0.7133\n",
      "Epoch 22/100\n",
      "10/10 [==============================] - 1s 100ms/step - loss: 0.5770 - accuracy: 0.7717 - val_loss: 0.6134 - val_accuracy: 0.7133\n",
      "Epoch 23/100\n",
      "10/10 [==============================] - 1s 99ms/step - loss: 0.5703 - accuracy: 0.7783 - val_loss: 0.6098 - val_accuracy: 0.7200\n",
      "Epoch 24/100\n",
      "10/10 [==============================] - 1s 100ms/step - loss: 0.5631 - accuracy: 0.7867 - val_loss: 0.6047 - val_accuracy: 0.7267\n",
      "Epoch 25/100\n",
      "10/10 [==============================] - 1s 100ms/step - loss: 0.5556 - accuracy: 0.7950 - val_loss: 0.5992 - val_accuracy: 0.7267\n",
      "Epoch 26/100\n",
      "10/10 [==============================] - 1s 109ms/step - loss: 0.5481 - accuracy: 0.7950 - val_loss: 0.5957 - val_accuracy: 0.7267\n",
      "Epoch 27/100\n",
      "10/10 [==============================] - 1s 99ms/step - loss: 0.5411 - accuracy: 0.8017 - val_loss: 0.5920 - val_accuracy: 0.7333\n",
      "Epoch 28/100\n",
      "10/10 [==============================] - 1s 98ms/step - loss: 0.5340 - accuracy: 0.8067 - val_loss: 0.5889 - val_accuracy: 0.7333\n",
      "Epoch 29/100\n",
      "10/10 [==============================] - 1s 100ms/step - loss: 0.5271 - accuracy: 0.8133 - val_loss: 0.5858 - val_accuracy: 0.7333\n",
      "Epoch 30/100\n",
      "10/10 [==============================] - 1s 107ms/step - loss: 0.5201 - accuracy: 0.8167 - val_loss: 0.5825 - val_accuracy: 0.7400\n",
      "Epoch 31/100\n",
      "10/10 [==============================] - 1s 100ms/step - loss: 0.5131 - accuracy: 0.8200 - val_loss: 0.5783 - val_accuracy: 0.7400\n",
      "Epoch 32/100\n",
      "10/10 [==============================] - 1s 109ms/step - loss: 0.5059 - accuracy: 0.8250 - val_loss: 0.5743 - val_accuracy: 0.7400\n",
      "Epoch 33/100\n",
      "10/10 [==============================] - 1s 102ms/step - loss: 0.4987 - accuracy: 0.8250 - val_loss: 0.5704 - val_accuracy: 0.7400\n",
      "Epoch 34/100\n",
      "10/10 [==============================] - 1s 102ms/step - loss: 0.4917 - accuracy: 0.8283 - val_loss: 0.5669 - val_accuracy: 0.7400\n",
      "Epoch 35/100\n",
      "10/10 [==============================] - 1s 100ms/step - loss: 0.4848 - accuracy: 0.8333 - val_loss: 0.5633 - val_accuracy: 0.7400\n",
      "Epoch 36/100\n",
      "10/10 [==============================] - 1s 108ms/step - loss: 0.4779 - accuracy: 0.8367 - val_loss: 0.5595 - val_accuracy: 0.7400\n",
      "Epoch 37/100\n",
      "10/10 [==============================] - 1s 100ms/step - loss: 0.4710 - accuracy: 0.8400 - val_loss: 0.5558 - val_accuracy: 0.7467\n",
      "Epoch 38/100\n",
      "10/10 [==============================] - 1s 100ms/step - loss: 0.4644 - accuracy: 0.8450 - val_loss: 0.5518 - val_accuracy: 0.7467\n",
      "Epoch 39/100\n",
      "10/10 [==============================] - 1s 100ms/step - loss: 0.4577 - accuracy: 0.8467 - val_loss: 0.5473 - val_accuracy: 0.7467\n",
      "Epoch 40/100\n",
      "10/10 [==============================] - 1s 100ms/step - loss: 0.4510 - accuracy: 0.8517 - val_loss: 0.5422 - val_accuracy: 0.7467\n",
      "Epoch 41/100\n",
      "10/10 [==============================] - 1s 100ms/step - loss: 0.4444 - accuracy: 0.8583 - val_loss: 0.5373 - val_accuracy: 0.7467\n",
      "Epoch 42/100\n",
      "10/10 [==============================] - 1s 98ms/step - loss: 0.4378 - accuracy: 0.8583 - val_loss: 0.5330 - val_accuracy: 0.7533\n",
      "Epoch 43/100\n",
      "10/10 [==============================] - 1s 100ms/step - loss: 0.4315 - accuracy: 0.8567 - val_loss: 0.5290 - val_accuracy: 0.7533\n",
      "Epoch 44/100\n",
      "10/10 [==============================] - 1s 101ms/step - loss: 0.4254 - accuracy: 0.8633 - val_loss: 0.5253 - val_accuracy: 0.7533\n",
      "Epoch 45/100\n",
      "10/10 [==============================] - 1s 101ms/step - loss: 0.4194 - accuracy: 0.8650 - val_loss: 0.5209 - val_accuracy: 0.7533\n",
      "Epoch 46/100\n",
      "10/10 [==============================] - 1s 109ms/step - loss: 0.4134 - accuracy: 0.8667 - val_loss: 0.5166 - val_accuracy: 0.7667\n",
      "Epoch 47/100\n",
      "10/10 [==============================] - 1s 101ms/step - loss: 0.4075 - accuracy: 0.8700 - val_loss: 0.5122 - val_accuracy: 0.7667\n",
      "Epoch 48/100\n",
      "10/10 [==============================] - 1s 109ms/step - loss: 0.4017 - accuracy: 0.8683 - val_loss: 0.5080 - val_accuracy: 0.7667\n",
      "Epoch 49/100\n",
      "10/10 [==============================] - 1s 100ms/step - loss: 0.3959 - accuracy: 0.8683 - val_loss: 0.5039 - val_accuracy: 0.7733\n",
      "Epoch 50/100\n",
      "10/10 [==============================] - 1s 109ms/step - loss: 0.3903 - accuracy: 0.8733 - val_loss: 0.4999 - val_accuracy: 0.7733\n",
      "Epoch 51/100\n",
      "10/10 [==============================] - 1s 101ms/step - loss: 0.3848 - accuracy: 0.8717 - val_loss: 0.4957 - val_accuracy: 0.7733\n",
      "Epoch 52/100\n",
      "10/10 [==============================] - 1s 100ms/step - loss: 0.3793 - accuracy: 0.8750 - val_loss: 0.4915 - val_accuracy: 0.7800\n",
      "Epoch 53/100\n",
      "10/10 [==============================] - 1s 100ms/step - loss: 0.3739 - accuracy: 0.8783 - val_loss: 0.4875 - val_accuracy: 0.7933\n",
      "Epoch 54/100\n",
      "10/10 [==============================] - 1s 109ms/step - loss: 0.3688 - accuracy: 0.8783 - val_loss: 0.4839 - val_accuracy: 0.7933\n",
      "Epoch 55/100\n",
      "10/10 [==============================] - 1s 100ms/step - loss: 0.3637 - accuracy: 0.8783 - val_loss: 0.4804 - val_accuracy: 0.7933\n",
      "Epoch 56/100\n",
      "10/10 [==============================] - 1s 100ms/step - loss: 0.3589 - accuracy: 0.8833 - val_loss: 0.4766 - val_accuracy: 0.7933\n",
      "Epoch 57/100\n",
      "10/10 [==============================] - 1s 100ms/step - loss: 0.3539 - accuracy: 0.8850 - val_loss: 0.4727 - val_accuracy: 0.7933\n",
      "Epoch 58/100\n"
     ]
    },
    {
     "name": "stdout",
     "output_type": "stream",
     "text": [
      "10/10 [==============================] - 1s 100ms/step - loss: 0.3491 - accuracy: 0.8867 - val_loss: 0.4688 - val_accuracy: 0.7867\n",
      "Epoch 59/100\n",
      "10/10 [==============================] - 1s 100ms/step - loss: 0.3442 - accuracy: 0.8883 - val_loss: 0.4639 - val_accuracy: 0.7867\n",
      "Epoch 60/100\n",
      "10/10 [==============================] - 1s 101ms/step - loss: 0.3386 - accuracy: 0.8883 - val_loss: 0.4570 - val_accuracy: 0.7867\n",
      "Epoch 61/100\n",
      "10/10 [==============================] - 1s 100ms/step - loss: 0.3328 - accuracy: 0.8883 - val_loss: 0.4509 - val_accuracy: 0.7867\n",
      "Epoch 62/100\n",
      "10/10 [==============================] - 1s 100ms/step - loss: 0.3281 - accuracy: 0.8900 - val_loss: 0.4470 - val_accuracy: 0.7867\n",
      "Epoch 63/100\n",
      "10/10 [==============================] - 1s 102ms/step - loss: 0.3240 - accuracy: 0.8900 - val_loss: 0.4445 - val_accuracy: 0.7867\n",
      "Epoch 64/100\n",
      "10/10 [==============================] - 1s 100ms/step - loss: 0.3200 - accuracy: 0.8900 - val_loss: 0.4410 - val_accuracy: 0.7867\n",
      "Epoch 65/100\n",
      "10/10 [==============================] - 1s 101ms/step - loss: 0.3159 - accuracy: 0.8883 - val_loss: 0.4375 - val_accuracy: 0.7867\n",
      "Epoch 66/100\n",
      "10/10 [==============================] - 1s 101ms/step - loss: 0.3119 - accuracy: 0.8883 - val_loss: 0.4342 - val_accuracy: 0.7867\n",
      "Epoch 67/100\n",
      "10/10 [==============================] - 1s 100ms/step - loss: 0.3079 - accuracy: 0.8883 - val_loss: 0.4302 - val_accuracy: 0.7867\n",
      "Epoch 68/100\n",
      "10/10 [==============================] - 1s 100ms/step - loss: 0.3039 - accuracy: 0.8917 - val_loss: 0.4267 - val_accuracy: 0.7867\n",
      "Epoch 69/100\n",
      "10/10 [==============================] - 1s 109ms/step - loss: 0.3000 - accuracy: 0.8933 - val_loss: 0.4236 - val_accuracy: 0.7867\n",
      "Epoch 70/100\n",
      "10/10 [==============================] - 1s 101ms/step - loss: 0.2962 - accuracy: 0.8933 - val_loss: 0.4202 - val_accuracy: 0.7933\n",
      "Epoch 71/100\n",
      "10/10 [==============================] - 1s 91ms/step - loss: 0.2924 - accuracy: 0.8967 - val_loss: 0.4163 - val_accuracy: 0.7933\n",
      "Epoch 72/100\n",
      "10/10 [==============================] - 1s 100ms/step - loss: 0.2885 - accuracy: 0.8983 - val_loss: 0.4126 - val_accuracy: 0.8000\n",
      "Epoch 73/100\n",
      "10/10 [==============================] - 1s 100ms/step - loss: 0.2846 - accuracy: 0.9000 - val_loss: 0.4087 - val_accuracy: 0.8067\n",
      "Epoch 74/100\n",
      "10/10 [==============================] - 1s 100ms/step - loss: 0.2808 - accuracy: 0.9000 - val_loss: 0.4055 - val_accuracy: 0.8067\n",
      "Epoch 75/100\n",
      "10/10 [==============================] - 1s 100ms/step - loss: 0.2771 - accuracy: 0.9017 - val_loss: 0.4027 - val_accuracy: 0.8000\n",
      "Epoch 76/100\n",
      "10/10 [==============================] - 1s 100ms/step - loss: 0.2736 - accuracy: 0.9033 - val_loss: 0.3998 - val_accuracy: 0.8000\n",
      "Epoch 77/100\n",
      "10/10 [==============================] - 1s 109ms/step - loss: 0.2701 - accuracy: 0.9067 - val_loss: 0.3973 - val_accuracy: 0.8000\n",
      "Epoch 78/100\n",
      "10/10 [==============================] - 1s 100ms/step - loss: 0.2667 - accuracy: 0.9050 - val_loss: 0.3940 - val_accuracy: 0.8000\n",
      "Epoch 79/100\n",
      "10/10 [==============================] - 1s 100ms/step - loss: 0.2631 - accuracy: 0.9100 - val_loss: 0.3910 - val_accuracy: 0.8067\n",
      "Epoch 80/100\n",
      "10/10 [==============================] - 1s 100ms/step - loss: 0.2597 - accuracy: 0.9133 - val_loss: 0.3875 - val_accuracy: 0.8067\n",
      "Epoch 81/100\n",
      "10/10 [==============================] - 1s 100ms/step - loss: 0.2561 - accuracy: 0.9133 - val_loss: 0.3843 - val_accuracy: 0.8067\n",
      "Epoch 82/100\n",
      "10/10 [==============================] - 1s 110ms/step - loss: 0.2529 - accuracy: 0.9133 - val_loss: 0.3811 - val_accuracy: 0.8133\n",
      "Epoch 83/100\n",
      "10/10 [==============================] - 1s 100ms/step - loss: 0.2496 - accuracy: 0.9133 - val_loss: 0.3786 - val_accuracy: 0.8133\n",
      "Epoch 84/100\n",
      "10/10 [==============================] - 1s 101ms/step - loss: 0.2466 - accuracy: 0.9133 - val_loss: 0.3764 - val_accuracy: 0.8133\n",
      "Epoch 85/100\n",
      "10/10 [==============================] - 1s 100ms/step - loss: 0.2438 - accuracy: 0.9133 - val_loss: 0.3733 - val_accuracy: 0.8200\n",
      "Epoch 86/100\n",
      "10/10 [==============================] - 1s 100ms/step - loss: 0.2408 - accuracy: 0.9150 - val_loss: 0.3717 - val_accuracy: 0.8267\n",
      "Epoch 87/100\n",
      "10/10 [==============================] - 1s 101ms/step - loss: 0.2381 - accuracy: 0.9150 - val_loss: 0.3696 - val_accuracy: 0.8267\n",
      "Epoch 88/100\n",
      "10/10 [==============================] - 1s 109ms/step - loss: 0.2354 - accuracy: 0.9167 - val_loss: 0.3678 - val_accuracy: 0.8333\n",
      "Epoch 89/100\n",
      "10/10 [==============================] - 1s 100ms/step - loss: 0.2328 - accuracy: 0.9200 - val_loss: 0.3655 - val_accuracy: 0.8333\n",
      "Epoch 90/100\n",
      "10/10 [==============================] - 1s 109ms/step - loss: 0.2302 - accuracy: 0.9200 - val_loss: 0.3638 - val_accuracy: 0.8333\n",
      "Epoch 91/100\n",
      "10/10 [==============================] - 1s 102ms/step - loss: 0.2276 - accuracy: 0.9233 - val_loss: 0.3607 - val_accuracy: 0.8333\n",
      "Epoch 92/100\n",
      "10/10 [==============================] - 1s 100ms/step - loss: 0.2249 - accuracy: 0.9250 - val_loss: 0.3587 - val_accuracy: 0.8333\n",
      "Epoch 93/100\n",
      "10/10 [==============================] - 1s 100ms/step - loss: 0.2225 - accuracy: 0.9233 - val_loss: 0.3556 - val_accuracy: 0.8267\n",
      "Epoch 94/100\n",
      "10/10 [==============================] - 1s 100ms/step - loss: 0.2201 - accuracy: 0.9267 - val_loss: 0.3539 - val_accuracy: 0.8267\n",
      "Epoch 95/100\n",
      "10/10 [==============================] - 1s 101ms/step - loss: 0.2178 - accuracy: 0.9283 - val_loss: 0.3517 - val_accuracy: 0.8267\n",
      "Epoch 96/100\n",
      "10/10 [==============================] - 1s 102ms/step - loss: 0.2155 - accuracy: 0.9317 - val_loss: 0.3504 - val_accuracy: 0.8333\n",
      "Epoch 97/100\n",
      "10/10 [==============================] - 1s 102ms/step - loss: 0.2133 - accuracy: 0.9317 - val_loss: 0.3475 - val_accuracy: 0.8333\n",
      "Epoch 98/100\n",
      "10/10 [==============================] - 1s 101ms/step - loss: 0.2111 - accuracy: 0.9350 - val_loss: 0.3456 - val_accuracy: 0.8333\n",
      "Epoch 99/100\n",
      "10/10 [==============================] - 1s 93ms/step - loss: 0.2088 - accuracy: 0.9350 - val_loss: 0.3428 - val_accuracy: 0.8333\n",
      "Epoch 100/100\n",
      "10/10 [==============================] - 1s 101ms/step - loss: 0.2066 - accuracy: 0.9367 - val_loss: 0.3410 - val_accuracy: 0.8333\n"
     ]
    }
   ],
   "source": [
    "train_dataset = tf.data.Dataset.from_tensor_slices((X_train, Y_train)).batch(64)\n",
    "test_dataset = tf.data.Dataset.from_tensor_slices((X_test, Y_test)).batch(64)\n",
    "history = conv_model.fit(train_dataset, epochs=100, validation_data=test_dataset)"
   ]
  },
  {
   "cell_type": "markdown",
   "metadata": {},
   "source": [
    "<a name='5'></a>\n",
    "## 5 - History Object \n",
    "\n",
    "The history object is an output of the `.fit()` operation, and provides a record of all the loss and metric values in memory. It's stored as a dictionary that you can retrieve at `history.history`: "
   ]
  },
  {
   "cell_type": "code",
   "execution_count": 34,
   "metadata": {},
   "outputs": [
    {
     "data": {
      "text/plain": [
       "{'loss': [1.9739009141921997,\n",
       "  1.5187067985534668,\n",
       "  1.0865830183029175,\n",
       "  0.7871811389923096,\n",
       "  0.6980752944946289,\n",
       "  0.6759077906608582,\n",
       "  0.66773921251297,\n",
       "  0.6612427234649658,\n",
       "  0.6554529070854187,\n",
       "  0.6504849791526794,\n",
       "  0.6446759700775146,\n",
       "  0.638959527015686,\n",
       "  0.6331789493560791,\n",
       "  0.6274506449699402,\n",
       "  0.6215881109237671,\n",
       "  0.6157417893409729,\n",
       "  0.6098116040229797,\n",
       "  0.6037390232086182,\n",
       "  0.5972562432289124,\n",
       "  0.5905982851982117,\n",
       "  0.583694577217102,\n",
       "  0.5770215392112732,\n",
       "  0.5703044533729553,\n",
       "  0.5631365180015564,\n",
       "  0.5555993914604187,\n",
       "  0.5481241345405579,\n",
       "  0.5410614013671875,\n",
       "  0.5340205430984497,\n",
       "  0.5270534157752991,\n",
       "  0.5201069712638855,\n",
       "  0.5131449699401855,\n",
       "  0.5059309005737305,\n",
       "  0.49873676896095276,\n",
       "  0.49167364835739136,\n",
       "  0.48484307527542114,\n",
       "  0.47785913944244385,\n",
       "  0.4710291028022766,\n",
       "  0.4643647372722626,\n",
       "  0.4576658010482788,\n",
       "  0.45101043581962585,\n",
       "  0.44436371326446533,\n",
       "  0.43781834840774536,\n",
       "  0.4315263330936432,\n",
       "  0.42537543177604675,\n",
       "  0.4194006323814392,\n",
       "  0.4133731424808502,\n",
       "  0.4075101613998413,\n",
       "  0.4016750454902649,\n",
       "  0.3959408104419708,\n",
       "  0.3903202712535858,\n",
       "  0.3847545385360718,\n",
       "  0.37927237153053284,\n",
       "  0.3739231526851654,\n",
       "  0.36878302693367004,\n",
       "  0.3637443482875824,\n",
       "  0.3588758111000061,\n",
       "  0.3538971245288849,\n",
       "  0.3491124212741852,\n",
       "  0.34421035647392273,\n",
       "  0.33860957622528076,\n",
       "  0.33281680941581726,\n",
       "  0.32810071110725403,\n",
       "  0.32401421666145325,\n",
       "  0.3199619650840759,\n",
       "  0.3159056603908539,\n",
       "  0.31186234951019287,\n",
       "  0.3078504204750061,\n",
       "  0.3039117455482483,\n",
       "  0.30003097653388977,\n",
       "  0.2962380349636078,\n",
       "  0.29244011640548706,\n",
       "  0.2885408401489258,\n",
       "  0.284645140171051,\n",
       "  0.2808064818382263,\n",
       "  0.27714964747428894,\n",
       "  0.2735961973667145,\n",
       "  0.270059198141098,\n",
       "  0.2666655480861664,\n",
       "  0.26306775212287903,\n",
       "  0.259663462638855,\n",
       "  0.2560640573501587,\n",
       "  0.2528526484966278,\n",
       "  0.2496149241924286,\n",
       "  0.24662455916404724,\n",
       "  0.24376605451107025,\n",
       "  0.24082863330841064,\n",
       "  0.23810936510562897,\n",
       "  0.23541663587093353,\n",
       "  0.23283694684505463,\n",
       "  0.23021367192268372,\n",
       "  0.22763536870479584,\n",
       "  0.22493603825569153,\n",
       "  0.22249796986579895,\n",
       "  0.220078706741333,\n",
       "  0.21775515377521515,\n",
       "  0.21551185846328735,\n",
       "  0.21328307688236237,\n",
       "  0.2110542356967926,\n",
       "  0.20882973074913025,\n",
       "  0.20661050081253052],\n",
       " 'accuracy': [0.05666666850447655,\n",
       "  0.45500001311302185,\n",
       "  0.5266666412353516,\n",
       "  0.5183333158493042,\n",
       "  0.628333330154419,\n",
       "  0.6549999713897705,\n",
       "  0.675000011920929,\n",
       "  0.6733333468437195,\n",
       "  0.7066666483879089,\n",
       "  0.7266666889190674,\n",
       "  0.7383333444595337,\n",
       "  0.7366666793823242,\n",
       "  0.7383333444595337,\n",
       "  0.7433333396911621,\n",
       "  0.7516666650772095,\n",
       "  0.753333330154419,\n",
       "  0.7583333253860474,\n",
       "  0.7633333206176758,\n",
       "  0.7649999856948853,\n",
       "  0.7733333110809326,\n",
       "  0.7683333158493042,\n",
       "  0.7716666460037231,\n",
       "  0.778333306312561,\n",
       "  0.7866666913032532,\n",
       "  0.7950000166893005,\n",
       "  0.7950000166893005,\n",
       "  0.8016666769981384,\n",
       "  0.8066666722297668,\n",
       "  0.8133333325386047,\n",
       "  0.8166666626930237,\n",
       "  0.8199999928474426,\n",
       "  0.824999988079071,\n",
       "  0.824999988079071,\n",
       "  0.82833331823349,\n",
       "  0.8333333134651184,\n",
       "  0.8366666436195374,\n",
       "  0.8399999737739563,\n",
       "  0.8450000286102295,\n",
       "  0.846666693687439,\n",
       "  0.8516666889190674,\n",
       "  0.8583333492279053,\n",
       "  0.8583333492279053,\n",
       "  0.8566666841506958,\n",
       "  0.8633333444595337,\n",
       "  0.8650000095367432,\n",
       "  0.8666666746139526,\n",
       "  0.8700000047683716,\n",
       "  0.8683333396911621,\n",
       "  0.8683333396911621,\n",
       "  0.8733333349227905,\n",
       "  0.871666669845581,\n",
       "  0.875,\n",
       "  0.878333330154419,\n",
       "  0.878333330154419,\n",
       "  0.878333330154419,\n",
       "  0.8833333253860474,\n",
       "  0.8849999904632568,\n",
       "  0.8866666555404663,\n",
       "  0.8883333206176758,\n",
       "  0.8883333206176758,\n",
       "  0.8883333206176758,\n",
       "  0.8899999856948853,\n",
       "  0.8899999856948853,\n",
       "  0.8899999856948853,\n",
       "  0.8883333206176758,\n",
       "  0.8883333206176758,\n",
       "  0.8883333206176758,\n",
       "  0.8916666507720947,\n",
       "  0.8933333158493042,\n",
       "  0.8933333158493042,\n",
       "  0.8966666460037231,\n",
       "  0.8983333110809326,\n",
       "  0.8999999761581421,\n",
       "  0.8999999761581421,\n",
       "  0.9016666412353516,\n",
       "  0.903333306312561,\n",
       "  0.9066666960716248,\n",
       "  0.9049999713897705,\n",
       "  0.9100000262260437,\n",
       "  0.9133333563804626,\n",
       "  0.9133333563804626,\n",
       "  0.9133333563804626,\n",
       "  0.9133333563804626,\n",
       "  0.9133333563804626,\n",
       "  0.9133333563804626,\n",
       "  0.9150000214576721,\n",
       "  0.9150000214576721,\n",
       "  0.9166666865348816,\n",
       "  0.9200000166893005,\n",
       "  0.9200000166893005,\n",
       "  0.9233333468437195,\n",
       "  0.925000011920929,\n",
       "  0.9233333468437195,\n",
       "  0.9266666769981384,\n",
       "  0.9283333420753479,\n",
       "  0.9316666722297668,\n",
       "  0.9316666722297668,\n",
       "  0.9350000023841858,\n",
       "  0.9350000023841858,\n",
       "  0.9366666674613953],\n",
       " 'val_loss': [1.6741825342178345,\n",
       "  1.2730963230133057,\n",
       "  0.885927140712738,\n",
       "  0.7249068021774292,\n",
       "  0.6883772015571594,\n",
       "  0.6822709441184998,\n",
       "  0.6758906841278076,\n",
       "  0.6692662239074707,\n",
       "  0.6661604046821594,\n",
       "  0.6611014604568481,\n",
       "  0.6570467948913574,\n",
       "  0.6525507569313049,\n",
       "  0.6484211087226868,\n",
       "  0.6438247561454773,\n",
       "  0.6397543549537659,\n",
       "  0.6357493996620178,\n",
       "  0.6316547393798828,\n",
       "  0.6275802850723267,\n",
       "  0.6234657764434814,\n",
       "  0.6197717785835266,\n",
       "  0.6168002486228943,\n",
       "  0.613446056842804,\n",
       "  0.6097947955131531,\n",
       "  0.6046643853187561,\n",
       "  0.5991931557655334,\n",
       "  0.5957301259040833,\n",
       "  0.5919865965843201,\n",
       "  0.5888701677322388,\n",
       "  0.5857749581336975,\n",
       "  0.5824615955352783,\n",
       "  0.5783320069313049,\n",
       "  0.5742976665496826,\n",
       "  0.5704396367073059,\n",
       "  0.566925585269928,\n",
       "  0.5632838010787964,\n",
       "  0.5595439076423645,\n",
       "  0.5558351278305054,\n",
       "  0.5518347024917603,\n",
       "  0.5472822785377502,\n",
       "  0.5421639084815979,\n",
       "  0.5372739434242249,\n",
       "  0.5329771041870117,\n",
       "  0.5289536118507385,\n",
       "  0.525259792804718,\n",
       "  0.5208539366722107,\n",
       "  0.5166484713554382,\n",
       "  0.512158989906311,\n",
       "  0.5079992413520813,\n",
       "  0.5038625001907349,\n",
       "  0.4999092221260071,\n",
       "  0.4957047402858734,\n",
       "  0.49150049686431885,\n",
       "  0.48752889037132263,\n",
       "  0.48386427760124207,\n",
       "  0.48037415742874146,\n",
       "  0.4766221046447754,\n",
       "  0.47273507714271545,\n",
       "  0.4688488245010376,\n",
       "  0.46389520168304443,\n",
       "  0.4569571018218994,\n",
       "  0.45090168714523315,\n",
       "  0.4470098912715912,\n",
       "  0.4445212185382843,\n",
       "  0.4410429000854492,\n",
       "  0.43745478987693787,\n",
       "  0.4341716468334198,\n",
       "  0.4302491247653961,\n",
       "  0.42668092250823975,\n",
       "  0.4236030578613281,\n",
       "  0.42020517587661743,\n",
       "  0.41634395718574524,\n",
       "  0.4126020073890686,\n",
       "  0.4086723327636719,\n",
       "  0.4055440127849579,\n",
       "  0.40266066789627075,\n",
       "  0.39977532625198364,\n",
       "  0.3973040282726288,\n",
       "  0.39397308230400085,\n",
       "  0.3910153806209564,\n",
       "  0.38748887181282043,\n",
       "  0.3842789828777313,\n",
       "  0.3811154067516327,\n",
       "  0.3786180317401886,\n",
       "  0.37643030285835266,\n",
       "  0.3733489513397217,\n",
       "  0.3717007040977478,\n",
       "  0.3696483373641968,\n",
       "  0.3678109347820282,\n",
       "  0.36551594734191895,\n",
       "  0.3637992739677429,\n",
       "  0.3606956899166107,\n",
       "  0.3586793839931488,\n",
       "  0.3555728793144226,\n",
       "  0.35390719771385193,\n",
       "  0.3516850769519806,\n",
       "  0.3503682613372803,\n",
       "  0.34751325845718384,\n",
       "  0.3456311821937561,\n",
       "  0.3427968919277191,\n",
       "  0.34103041887283325],\n",
       " 'val_accuracy': [0.5400000214576721,\n",
       "  0.47333332896232605,\n",
       "  0.4399999976158142,\n",
       "  0.46666666865348816,\n",
       "  0.5400000214576721,\n",
       "  0.5266666412353516,\n",
       "  0.5400000214576721,\n",
       "  0.5866666436195374,\n",
       "  0.5866666436195374,\n",
       "  0.6466666460037231,\n",
       "  0.6800000071525574,\n",
       "  0.6666666865348816,\n",
       "  0.6733333468437195,\n",
       "  0.6866666674613953,\n",
       "  0.7066666483879089,\n",
       "  0.7133333086967468,\n",
       "  0.7200000286102295,\n",
       "  0.7200000286102295,\n",
       "  0.7266666889190674,\n",
       "  0.7266666889190674,\n",
       "  0.7133333086967468,\n",
       "  0.7133333086967468,\n",
       "  0.7200000286102295,\n",
       "  0.7266666889190674,\n",
       "  0.7266666889190674,\n",
       "  0.7266666889190674,\n",
       "  0.7333333492279053,\n",
       "  0.7333333492279053,\n",
       "  0.7333333492279053,\n",
       "  0.7400000095367432,\n",
       "  0.7400000095367432,\n",
       "  0.7400000095367432,\n",
       "  0.7400000095367432,\n",
       "  0.7400000095367432,\n",
       "  0.7400000095367432,\n",
       "  0.7400000095367432,\n",
       "  0.746666669845581,\n",
       "  0.746666669845581,\n",
       "  0.746666669845581,\n",
       "  0.746666669845581,\n",
       "  0.746666669845581,\n",
       "  0.753333330154419,\n",
       "  0.753333330154419,\n",
       "  0.753333330154419,\n",
       "  0.753333330154419,\n",
       "  0.7666666507720947,\n",
       "  0.7666666507720947,\n",
       "  0.7666666507720947,\n",
       "  0.7733333110809326,\n",
       "  0.7733333110809326,\n",
       "  0.7733333110809326,\n",
       "  0.7799999713897705,\n",
       "  0.7933333516120911,\n",
       "  0.7933333516120911,\n",
       "  0.7933333516120911,\n",
       "  0.7933333516120911,\n",
       "  0.7933333516120911,\n",
       "  0.7866666913032532,\n",
       "  0.7866666913032532,\n",
       "  0.7866666913032532,\n",
       "  0.7866666913032532,\n",
       "  0.7866666913032532,\n",
       "  0.7866666913032532,\n",
       "  0.7866666913032532,\n",
       "  0.7866666913032532,\n",
       "  0.7866666913032532,\n",
       "  0.7866666913032532,\n",
       "  0.7866666913032532,\n",
       "  0.7866666913032532,\n",
       "  0.7933333516120911,\n",
       "  0.7933333516120911,\n",
       "  0.800000011920929,\n",
       "  0.8066666722297668,\n",
       "  0.8066666722297668,\n",
       "  0.800000011920929,\n",
       "  0.800000011920929,\n",
       "  0.800000011920929,\n",
       "  0.800000011920929,\n",
       "  0.8066666722297668,\n",
       "  0.8066666722297668,\n",
       "  0.8066666722297668,\n",
       "  0.8133333325386047,\n",
       "  0.8133333325386047,\n",
       "  0.8133333325386047,\n",
       "  0.8199999928474426,\n",
       "  0.8266666531562805,\n",
       "  0.8266666531562805,\n",
       "  0.8333333134651184,\n",
       "  0.8333333134651184,\n",
       "  0.8333333134651184,\n",
       "  0.8333333134651184,\n",
       "  0.8333333134651184,\n",
       "  0.8266666531562805,\n",
       "  0.8266666531562805,\n",
       "  0.8266666531562805,\n",
       "  0.8333333134651184,\n",
       "  0.8333333134651184,\n",
       "  0.8333333134651184,\n",
       "  0.8333333134651184,\n",
       "  0.8333333134651184]}"
      ]
     },
     "execution_count": 34,
     "metadata": {},
     "output_type": "execute_result"
    }
   ],
   "source": [
    "history.history"
   ]
  },
  {
   "cell_type": "markdown",
   "metadata": {},
   "source": [
    "Now visualize the loss over time using `history.history`: "
   ]
  },
  {
   "cell_type": "code",
   "execution_count": 35,
   "metadata": {},
   "outputs": [
    {
     "data": {
      "text/plain": [
       "[Text(0, 0.5, 'Accuracy'), Text(0.5, 0, 'Epoch')]"
      ]
     },
     "execution_count": 35,
     "metadata": {},
     "output_type": "execute_result"
    },
    {
     "data": {
      "image/png": "[encoded data removed]",
      "text/plain": [
       "<Figure size 864x576 with 1 Axes>"
      ]
     },
     "metadata": {
      "needs_background": "light"
     },
     "output_type": "display_data"
    },
    {
     "data": {
      "image/png": "[encoded data removed]",
      "text/plain": [
       "<Figure size 864x576 with 1 Axes>"
      ]
     },
     "metadata": {
      "needs_background": "light"
     },
     "output_type": "display_data"
    }
   ],
   "source": [
    "# The history.history[\"loss\"] entry is a dictionary with as many values as epochs that the\n",
    "# model was trained on. \n",
    "df_loss_acc = pd.DataFrame(history.history)\n",
    "df_loss= df_loss_acc[['loss','val_loss']]\n",
    "df_loss.rename(columns={'loss':'train','val_loss':'validation'},inplace=True)\n",
    "df_acc= df_loss_acc[['accuracy','val_accuracy']]\n",
    "df_acc.rename(columns={'accuracy':'train','val_accuracy':'validation'},inplace=True)\n",
    "df_loss.plot(title='Model loss',figsize=(12,8)).set(xlabel='Epoch',ylabel='Loss')\n",
    "df_acc.plot(title='Model Accuracy',figsize=(12,8)).set(xlabel='Epoch',ylabel='Accuracy')"
   ]
  },
  {
   "cell_type": "markdown",
   "metadata": {},
   "source": [
    "**Congratulations**! You've finished the assignment and built two models: One that recognizes  smiles, and another that recognizes SIGN language with almost 80% accuracy on the test set. In addition to that, you now also understand the applications of two Keras APIs: Sequential and Functional. Nicely done! \n",
    "\n",
    "By now, you know a bit about how the Functional API works and may have glimpsed the possibilities. In your next assignment, you'll really get a feel for its power when you get the opportunity to build a very deep ConvNet, using ResNets! "
   ]
  },
  {
   "cell_type": "markdown",
   "metadata": {},
   "source": [
    "<a name='6'></a>\n",
    "## 6 - Bibliography\n",
    "\n",
    "You're always encouraged to read the official documentation. To that end, you can find the docs for the Sequential and Functional APIs here: \n",
    "\n",
    "https://www.tensorflow.org/guide/keras/sequential_model\n",
    "\n",
    "https://www.tensorflow.org/guide/keras/functional"
   ]
  }
 ],
 "metadata": {
  "coursera": {
   "course_slug": "convolutional-neural-networks",
   "graded_item_id": "bwbJV",
   "launcher_item_id": "0TkXB"
  },
  "kernelspec": {
   "display_name": "Python 3",
   "language": "python",
   "name": "python3"
  },
  "language_info": {
   "codemirror_mode": {
    "name": "ipython",
    "version": 3
   },
   "file_extension": ".py",
   "mimetype": "text/x-python",
   "name": "python",
   "nbconvert_exporter": "python",
   "pygments_lexer": "ipython3",
   "version": "3.7.6"
  }
 },
 "nbformat": 4,
 "nbformat_minor": 2
}
